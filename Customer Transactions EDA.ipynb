{
 "cells": [
  {
   "cell_type": "markdown",
   "id": "d5e0f02c",
   "metadata": {},
   "source": [
    "# **PERFORMING 'EXPLORATORY DATA ANALYSIS' (EDA) ON CUSTOMER TRANSACTIONS DATASET**"
   ]
  },
  {
   "cell_type": "markdown",
   "id": "6f0283fd",
   "metadata": {},
   "source": [
    "**IMPORTING THE REQUIRED MODULES**"
   ]
  },
  {
   "cell_type": "code",
   "execution_count": 2,
   "id": "00ddb652",
   "metadata": {},
   "outputs": [],
   "source": [
    "import pandas as pd\n",
    "import numpy as np\n",
    "import seaborn as sn\n",
    "from datetime import date\n",
    "import calendar\n",
    "import matplotlib.pyplot as plt\n",
    "%matplotlib inline"
   ]
  },
  {
   "cell_type": "markdown",
   "id": "fb4d5e23",
   "metadata": {},
   "source": [
    "**READING THE CSV FILE**"
   ]
  },
  {
   "cell_type": "code",
   "execution_count": 3,
   "id": "cbec7029",
   "metadata": {},
   "outputs": [],
   "source": [
    "df = pd.read_csv('dataset.csv')"
   ]
  },
  {
   "cell_type": "markdown",
   "id": "99e58f32",
   "metadata": {},
   "source": [
    "**DISPLAYING THE FIRST FEW ROWS OF THE DATASET**"
   ]
  },
  {
   "cell_type": "code",
   "execution_count": 4,
   "id": "215ecd52",
   "metadata": {},
   "outputs": [
    {
     "data": {
      "text/html": [
       "<div>\n",
       "<style scoped>\n",
       "    .dataframe tbody tr th:only-of-type {\n",
       "        vertical-align: middle;\n",
       "    }\n",
       "\n",
       "    .dataframe tbody tr th {\n",
       "        vertical-align: top;\n",
       "    }\n",
       "\n",
       "    .dataframe thead th {\n",
       "        text-align: right;\n",
       "    }\n",
       "</style>\n",
       "<table border=\"1\" class=\"dataframe\">\n",
       "  <thead>\n",
       "    <tr style=\"text-align: right;\">\n",
       "      <th></th>\n",
       "      <th>Customer ID</th>\n",
       "      <th>Name</th>\n",
       "      <th>Surname</th>\n",
       "      <th>Gender</th>\n",
       "      <th>Birthdate</th>\n",
       "      <th>Transaction Amount</th>\n",
       "      <th>Date</th>\n",
       "      <th>Merchant Name</th>\n",
       "      <th>Category</th>\n",
       "    </tr>\n",
       "  </thead>\n",
       "  <tbody>\n",
       "    <tr>\n",
       "      <th>0</th>\n",
       "      <td>752858</td>\n",
       "      <td>Sean</td>\n",
       "      <td>Rodriguez</td>\n",
       "      <td>F</td>\n",
       "      <td>2002-10-20</td>\n",
       "      <td>35.47</td>\n",
       "      <td>2023-04-03</td>\n",
       "      <td>Smith-Russell</td>\n",
       "      <td>Cosmetic</td>\n",
       "    </tr>\n",
       "    <tr>\n",
       "      <th>1</th>\n",
       "      <td>26381</td>\n",
       "      <td>Michelle</td>\n",
       "      <td>Phelps</td>\n",
       "      <td>NaN</td>\n",
       "      <td>1985-10-24</td>\n",
       "      <td>2552.72</td>\n",
       "      <td>2023-07-17</td>\n",
       "      <td>Peck, Spence and Young</td>\n",
       "      <td>Travel</td>\n",
       "    </tr>\n",
       "    <tr>\n",
       "      <th>2</th>\n",
       "      <td>305449</td>\n",
       "      <td>Jacob</td>\n",
       "      <td>Williams</td>\n",
       "      <td>M</td>\n",
       "      <td>1981-10-25</td>\n",
       "      <td>115.97</td>\n",
       "      <td>2023-09-20</td>\n",
       "      <td>Steele Inc</td>\n",
       "      <td>Clothing</td>\n",
       "    </tr>\n",
       "    <tr>\n",
       "      <th>3</th>\n",
       "      <td>988259</td>\n",
       "      <td>Nathan</td>\n",
       "      <td>Snyder</td>\n",
       "      <td>M</td>\n",
       "      <td>1977-10-26</td>\n",
       "      <td>11.31</td>\n",
       "      <td>2023-01-11</td>\n",
       "      <td>Wilson, Wilson and Russell</td>\n",
       "      <td>Cosmetic</td>\n",
       "    </tr>\n",
       "    <tr>\n",
       "      <th>4</th>\n",
       "      <td>764762</td>\n",
       "      <td>Crystal</td>\n",
       "      <td>Knapp</td>\n",
       "      <td>F</td>\n",
       "      <td>1951-11-02</td>\n",
       "      <td>62.21</td>\n",
       "      <td>2023-06-13</td>\n",
       "      <td>Palmer-Hinton</td>\n",
       "      <td>Electronics</td>\n",
       "    </tr>\n",
       "  </tbody>\n",
       "</table>\n",
       "</div>"
      ],
      "text/plain": [
       "   Customer ID      Name    Surname Gender   Birthdate  Transaction Amount  \\\n",
       "0       752858      Sean  Rodriguez      F  2002-10-20               35.47   \n",
       "1        26381  Michelle     Phelps    NaN  1985-10-24             2552.72   \n",
       "2       305449     Jacob   Williams      M  1981-10-25              115.97   \n",
       "3       988259    Nathan     Snyder      M  1977-10-26               11.31   \n",
       "4       764762   Crystal      Knapp      F  1951-11-02               62.21   \n",
       "\n",
       "         Date               Merchant Name     Category  \n",
       "0  2023-04-03               Smith-Russell     Cosmetic  \n",
       "1  2023-07-17      Peck, Spence and Young       Travel  \n",
       "2  2023-09-20                  Steele Inc     Clothing  \n",
       "3  2023-01-11  Wilson, Wilson and Russell     Cosmetic  \n",
       "4  2023-06-13               Palmer-Hinton  Electronics  "
      ]
     },
     "execution_count": 4,
     "metadata": {},
     "output_type": "execute_result"
    }
   ],
   "source": [
    "df.head()"
   ]
  },
  {
   "cell_type": "markdown",
   "id": "ada256f0",
   "metadata": {},
   "source": [
    "**LOOKING FOR NULL VALUES IN THE DATASET**"
   ]
  },
  {
   "cell_type": "code",
   "execution_count": 5,
   "id": "834e7cd4",
   "metadata": {},
   "outputs": [
    {
     "data": {
      "text/plain": [
       "Customer ID              0\n",
       "Name                     0\n",
       "Surname                  0\n",
       "Gender                5047\n",
       "Birthdate                0\n",
       "Transaction Amount       0\n",
       "Date                     0\n",
       "Merchant Name            0\n",
       "Category                 0\n",
       "dtype: int64"
      ]
     },
     "execution_count": 5,
     "metadata": {},
     "output_type": "execute_result"
    }
   ],
   "source": [
    "df.isna().sum()"
   ]
  },
  {
   "cell_type": "markdown",
   "id": "0fa074b0",
   "metadata": {},
   "source": [
    "**IT CAN BE SEEN THAT ONLY THE GENDER SERIES HAS NULL VALUES, LET'S SEE HOW MANY UNIQUE VALUES IT HAS!**"
   ]
  },
  {
   "cell_type": "code",
   "execution_count": 6,
   "id": "9efe6856",
   "metadata": {},
   "outputs": [
    {
     "data": {
      "text/plain": [
       "array(['F', nan, 'M'], dtype=object)"
      ]
     },
     "execution_count": 6,
     "metadata": {},
     "output_type": "execute_result"
    }
   ],
   "source": [
    "df.Gender.unique()"
   ]
  },
  {
   "cell_type": "markdown",
   "id": "595c869b",
   "metadata": {},
   "source": [
    "**SO IT DOES HAVE nan VALUES. LET'S SEE HOW MANY ARE THERE!**"
   ]
  },
  {
   "cell_type": "code",
   "execution_count": 7,
   "id": "d3639f86",
   "metadata": {},
   "outputs": [
    {
     "data": {
      "text/plain": [
       "5047"
      ]
     },
     "execution_count": 7,
     "metadata": {},
     "output_type": "execute_result"
    }
   ],
   "source": [
    "df['Gender'].isna().sum()"
   ]
  },
  {
   "cell_type": "markdown",
   "id": "c08acfe5",
   "metadata": {},
   "source": [
    "**5047 VALUES IN GENDER SERIES ARE NULL! LET'S SEE HOW MANY VALUES THERE ARE IN TOTAL IN THE DATAFRAME.**"
   ]
  },
  {
   "cell_type": "code",
   "execution_count": 8,
   "id": "7ceee2c0",
   "metadata": {
    "scrolled": true
   },
   "outputs": [
    {
     "data": {
      "text/plain": [
       "(50000, 9)"
      ]
     },
     "execution_count": 8,
     "metadata": {},
     "output_type": "execute_result"
    }
   ],
   "source": [
    "df.shape"
   ]
  },
  {
   "cell_type": "markdown",
   "id": "88a68205",
   "metadata": {},
   "source": [
    "**WE NEED TO GET AN ESTIMATE ABOUT THE NUMBER OF MALE AND FEMALE ROWS IN ORDER TO DO SOMETHING ABOUT THE NULL VALUES**"
   ]
  },
  {
   "cell_type": "code",
   "execution_count": 9,
   "id": "26c47103",
   "metadata": {
    "scrolled": true
   },
   "outputs": [
    {
     "data": {
      "text/plain": [
       "Gender\n",
       "F    22713\n",
       "M    22240\n",
       "Name: count, dtype: int64"
      ]
     },
     "execution_count": 9,
     "metadata": {},
     "output_type": "execute_result"
    }
   ],
   "source": [
    "df['Gender'].value_counts()"
   ]
  },
  {
   "cell_type": "markdown",
   "id": "bb3a977b",
   "metadata": {},
   "source": [
    "**FEMALES ARE A LITTLE HIGHER IN NUMBER THAN MALES. IT'S BETTER TO FILL IN RANDOMLY THESE TWO VALUES IN THE NULL CELLS.**"
   ]
  },
  {
   "cell_type": "code",
   "execution_count": 10,
   "id": "57b3e573",
   "metadata": {},
   "outputs": [],
   "source": [
    "df.loc[df['Gender'].isna(), 'Gender'] = [i for i in np.random.choice(['F','M'], df['Gender'].isna().sum())]"
   ]
  },
  {
   "cell_type": "markdown",
   "id": "b04a2700",
   "metadata": {},
   "source": [
    "**NOW LET'S CHECK THE NUMBER OF NULL VALUES, WHICH SHOULD BE ZERO.**"
   ]
  },
  {
   "cell_type": "code",
   "execution_count": 11,
   "id": "cb340994",
   "metadata": {},
   "outputs": [
    {
     "data": {
      "text/plain": [
       "0"
      ]
     },
     "execution_count": 11,
     "metadata": {},
     "output_type": "execute_result"
    }
   ],
   "source": [
    "df['Gender'].isna().sum()"
   ]
  },
  {
   "cell_type": "markdown",
   "id": "4e24e574",
   "metadata": {},
   "source": [
    "**THE FEMALE TO MALE RATIO IS ALMOST SIMILAR** "
   ]
  },
  {
   "cell_type": "code",
   "execution_count": 12,
   "id": "bb94ef5f",
   "metadata": {},
   "outputs": [
    {
     "data": {
      "text/plain": [
       "Gender\n",
       "F    25263\n",
       "M    24737\n",
       "Name: count, dtype: int64"
      ]
     },
     "execution_count": 12,
     "metadata": {},
     "output_type": "execute_result"
    }
   ],
   "source": [
    "df['Gender'].value_counts()"
   ]
  },
  {
   "cell_type": "code",
   "execution_count": 13,
   "id": "ee7f348d",
   "metadata": {},
   "outputs": [
    {
     "data": {
      "text/html": [
       "<div>\n",
       "<style scoped>\n",
       "    .dataframe tbody tr th:only-of-type {\n",
       "        vertical-align: middle;\n",
       "    }\n",
       "\n",
       "    .dataframe tbody tr th {\n",
       "        vertical-align: top;\n",
       "    }\n",
       "\n",
       "    .dataframe thead th {\n",
       "        text-align: right;\n",
       "    }\n",
       "</style>\n",
       "<table border=\"1\" class=\"dataframe\">\n",
       "  <thead>\n",
       "    <tr style=\"text-align: right;\">\n",
       "      <th></th>\n",
       "      <th>Customer ID</th>\n",
       "      <th>Name</th>\n",
       "      <th>Surname</th>\n",
       "      <th>Gender</th>\n",
       "      <th>Birthdate</th>\n",
       "      <th>Transaction Amount</th>\n",
       "      <th>Date</th>\n",
       "      <th>Merchant Name</th>\n",
       "      <th>Category</th>\n",
       "    </tr>\n",
       "  </thead>\n",
       "  <tbody>\n",
       "    <tr>\n",
       "      <th>0</th>\n",
       "      <td>752858</td>\n",
       "      <td>Sean</td>\n",
       "      <td>Rodriguez</td>\n",
       "      <td>F</td>\n",
       "      <td>2002-10-20</td>\n",
       "      <td>35.47</td>\n",
       "      <td>2023-04-03</td>\n",
       "      <td>Smith-Russell</td>\n",
       "      <td>Cosmetic</td>\n",
       "    </tr>\n",
       "    <tr>\n",
       "      <th>1</th>\n",
       "      <td>26381</td>\n",
       "      <td>Michelle</td>\n",
       "      <td>Phelps</td>\n",
       "      <td>F</td>\n",
       "      <td>1985-10-24</td>\n",
       "      <td>2552.72</td>\n",
       "      <td>2023-07-17</td>\n",
       "      <td>Peck, Spence and Young</td>\n",
       "      <td>Travel</td>\n",
       "    </tr>\n",
       "    <tr>\n",
       "      <th>2</th>\n",
       "      <td>305449</td>\n",
       "      <td>Jacob</td>\n",
       "      <td>Williams</td>\n",
       "      <td>M</td>\n",
       "      <td>1981-10-25</td>\n",
       "      <td>115.97</td>\n",
       "      <td>2023-09-20</td>\n",
       "      <td>Steele Inc</td>\n",
       "      <td>Clothing</td>\n",
       "    </tr>\n",
       "    <tr>\n",
       "      <th>3</th>\n",
       "      <td>988259</td>\n",
       "      <td>Nathan</td>\n",
       "      <td>Snyder</td>\n",
       "      <td>M</td>\n",
       "      <td>1977-10-26</td>\n",
       "      <td>11.31</td>\n",
       "      <td>2023-01-11</td>\n",
       "      <td>Wilson, Wilson and Russell</td>\n",
       "      <td>Cosmetic</td>\n",
       "    </tr>\n",
       "    <tr>\n",
       "      <th>4</th>\n",
       "      <td>764762</td>\n",
       "      <td>Crystal</td>\n",
       "      <td>Knapp</td>\n",
       "      <td>F</td>\n",
       "      <td>1951-11-02</td>\n",
       "      <td>62.21</td>\n",
       "      <td>2023-06-13</td>\n",
       "      <td>Palmer-Hinton</td>\n",
       "      <td>Electronics</td>\n",
       "    </tr>\n",
       "  </tbody>\n",
       "</table>\n",
       "</div>"
      ],
      "text/plain": [
       "   Customer ID      Name    Surname Gender   Birthdate  Transaction Amount  \\\n",
       "0       752858      Sean  Rodriguez      F  2002-10-20               35.47   \n",
       "1        26381  Michelle     Phelps      F  1985-10-24             2552.72   \n",
       "2       305449     Jacob   Williams      M  1981-10-25              115.97   \n",
       "3       988259    Nathan     Snyder      M  1977-10-26               11.31   \n",
       "4       764762   Crystal      Knapp      F  1951-11-02               62.21   \n",
       "\n",
       "         Date               Merchant Name     Category  \n",
       "0  2023-04-03               Smith-Russell     Cosmetic  \n",
       "1  2023-07-17      Peck, Spence and Young       Travel  \n",
       "2  2023-09-20                  Steele Inc     Clothing  \n",
       "3  2023-01-11  Wilson, Wilson and Russell     Cosmetic  \n",
       "4  2023-06-13               Palmer-Hinton  Electronics  "
      ]
     },
     "execution_count": 13,
     "metadata": {},
     "output_type": "execute_result"
    }
   ],
   "source": [
    "df.head()"
   ]
  },
  {
   "cell_type": "markdown",
   "id": "555f0baa",
   "metadata": {},
   "source": [
    "**NOW THERE ARE NO NULL VALUES IN THE DATAFRAME**"
   ]
  },
  {
   "cell_type": "code",
   "execution_count": 14,
   "id": "2d442437",
   "metadata": {},
   "outputs": [
    {
     "data": {
      "text/plain": [
       "Customer ID           0\n",
       "Name                  0\n",
       "Surname               0\n",
       "Gender                0\n",
       "Birthdate             0\n",
       "Transaction Amount    0\n",
       "Date                  0\n",
       "Merchant Name         0\n",
       "Category              0\n",
       "dtype: int64"
      ]
     },
     "execution_count": 14,
     "metadata": {},
     "output_type": "execute_result"
    }
   ],
   "source": [
    "df.isna().sum()"
   ]
  },
  {
   "cell_type": "code",
   "execution_count": 15,
   "id": "d70cdcdd",
   "metadata": {},
   "outputs": [
    {
     "data": {
      "text/plain": [
       "Index(['Customer ID', 'Name', 'Surname', 'Gender', 'Birthdate',\n",
       "       'Transaction Amount', 'Date', 'Merchant Name', 'Category'],\n",
       "      dtype='object')"
      ]
     },
     "execution_count": 15,
     "metadata": {},
     "output_type": "execute_result"
    }
   ],
   "source": [
    "df.keys()"
   ]
  },
  {
   "cell_type": "markdown",
   "id": "e6354294",
   "metadata": {},
   "source": [
    "**THIS IS A HISTOPLOT SHOWING THE VARIATION IN THE AMOUNT OF TRANSACTION AMOUNT**"
   ]
  },
  {
   "cell_type": "code",
   "execution_count": 16,
   "id": "8c80f6ac",
   "metadata": {},
   "outputs": [
    {
     "data": {
      "text/plain": [
       "<Axes: xlabel='Transaction Amount', ylabel='Count'>"
      ]
     },
     "execution_count": 16,
     "metadata": {},
     "output_type": "execute_result"
    },
    {
     "data": {
      "image/png": "[encoded data removed]",
      "text/plain": [
       "<Figure size 640x480 with 1 Axes>"
      ]
     },
     "metadata": {},
     "output_type": "display_data"
    }
   ],
   "source": [
    "sn.histplot(df['Transaction Amount'],kde=True)"
   ]
  },
  {
   "cell_type": "markdown",
   "id": "d2fe9772",
   "metadata": {},
   "source": [
    "**HERE'S A PIE CHART DISPLAYING THE PROPORTION OF PEOPLE BY GENDER, ON HOW MUCH TRANSACTION AMOUNT THEY HAVE**"
   ]
  },
  {
   "cell_type": "code",
   "execution_count": 17,
   "id": "3ed0e5ac",
   "metadata": {},
   "outputs": [
    {
     "data": {
      "text/plain": [
       "<Axes: ylabel='Transaction Amount'>"
      ]
     },
     "execution_count": 17,
     "metadata": {},
     "output_type": "execute_result"
    },
    {
     "data": {
      "image/png": "[encoded data removed]",
      "text/plain": [
       "<Figure size 640x480 with 1 Axes>"
      ]
     },
     "metadata": {},
     "output_type": "display_data"
    }
   ],
   "source": [
    "df.groupby('Gender')['Transaction Amount'].sum().plot(kind=\"pie\", explode=(0.01,0.01), autopct='%1.1f%%',startangle=90)"
   ]
  },
  {
   "cell_type": "markdown",
   "id": "96a37e5d",
   "metadata": {},
   "source": [
    "**CALCULATING AGE OF CUSTOMERS FROM THEIR BIRTHDATE FOLLOWED BY THE AGE RANGE**"
   ]
  },
  {
   "cell_type": "code",
   "execution_count": 18,
   "id": "05ff7499",
   "metadata": {},
   "outputs": [],
   "source": [
    "def calculateAge(birthDate):\n",
    "    today = date.today()\n",
    "    age = today.year - birthDate.year - ((today.month, today.day) < (birthDate.month, birthDate.day))\n",
    "    return age\n",
    "\n",
    "def checkAgeRange(age):\n",
    "    las_dig=age%10\n",
    "    range_age=str.format('{0}-{1}',age-las_dig,((age-las_dig)+10))\n",
    "    return range_age"
   ]
  },
  {
   "cell_type": "markdown",
   "id": "3c4deff6",
   "metadata": {},
   "source": [
    "**CREATING A NEW SERIES (COLUMN) IN THE DATAFRAME BY THE NAME 'AGE' AND 'AGE RANGE'** "
   ]
  },
  {
   "cell_type": "code",
   "execution_count": 19,
   "id": "46fce52a",
   "metadata": {},
   "outputs": [],
   "source": [
    "l = []\n",
    "for i in df['Birthdate']:\n",
    "    y,m,d = i.split('-')\n",
    "    y,m,d = int(y),int(m),int(d)\n",
    "    if y==int('023'):\n",
    "        y=2023\n",
    "    l.append(calculateAge(date(y,m,d)))\n",
    "df['Age']=l"
   ]
  },
  {
   "cell_type": "code",
   "execution_count": 20,
   "id": "4950928b",
   "metadata": {},
   "outputs": [],
   "source": [
    "df['Age Range'] = df['Age'].apply(checkAgeRange)"
   ]
  },
  {
   "cell_type": "code",
   "execution_count": 21,
   "id": "d5ab7a75",
   "metadata": {
    "scrolled": true
   },
   "outputs": [
    {
     "data": {
      "text/html": [
       "<div>\n",
       "<style scoped>\n",
       "    .dataframe tbody tr th:only-of-type {\n",
       "        vertical-align: middle;\n",
       "    }\n",
       "\n",
       "    .dataframe tbody tr th {\n",
       "        vertical-align: top;\n",
       "    }\n",
       "\n",
       "    .dataframe thead th {\n",
       "        text-align: right;\n",
       "    }\n",
       "</style>\n",
       "<table border=\"1\" class=\"dataframe\">\n",
       "  <thead>\n",
       "    <tr style=\"text-align: right;\">\n",
       "      <th></th>\n",
       "      <th>Customer ID</th>\n",
       "      <th>Name</th>\n",
       "      <th>Surname</th>\n",
       "      <th>Gender</th>\n",
       "      <th>Birthdate</th>\n",
       "      <th>Transaction Amount</th>\n",
       "      <th>Date</th>\n",
       "      <th>Merchant Name</th>\n",
       "      <th>Category</th>\n",
       "      <th>Age</th>\n",
       "      <th>Age Range</th>\n",
       "    </tr>\n",
       "  </thead>\n",
       "  <tbody>\n",
       "    <tr>\n",
       "      <th>0</th>\n",
       "      <td>752858</td>\n",
       "      <td>Sean</td>\n",
       "      <td>Rodriguez</td>\n",
       "      <td>F</td>\n",
       "      <td>2002-10-20</td>\n",
       "      <td>35.47</td>\n",
       "      <td>2023-04-03</td>\n",
       "      <td>Smith-Russell</td>\n",
       "      <td>Cosmetic</td>\n",
       "      <td>21</td>\n",
       "      <td>20-30</td>\n",
       "    </tr>\n",
       "    <tr>\n",
       "      <th>1</th>\n",
       "      <td>26381</td>\n",
       "      <td>Michelle</td>\n",
       "      <td>Phelps</td>\n",
       "      <td>F</td>\n",
       "      <td>1985-10-24</td>\n",
       "      <td>2552.72</td>\n",
       "      <td>2023-07-17</td>\n",
       "      <td>Peck, Spence and Young</td>\n",
       "      <td>Travel</td>\n",
       "      <td>37</td>\n",
       "      <td>30-40</td>\n",
       "    </tr>\n",
       "    <tr>\n",
       "      <th>2</th>\n",
       "      <td>305449</td>\n",
       "      <td>Jacob</td>\n",
       "      <td>Williams</td>\n",
       "      <td>M</td>\n",
       "      <td>1981-10-25</td>\n",
       "      <td>115.97</td>\n",
       "      <td>2023-09-20</td>\n",
       "      <td>Steele Inc</td>\n",
       "      <td>Clothing</td>\n",
       "      <td>41</td>\n",
       "      <td>40-50</td>\n",
       "    </tr>\n",
       "    <tr>\n",
       "      <th>3</th>\n",
       "      <td>988259</td>\n",
       "      <td>Nathan</td>\n",
       "      <td>Snyder</td>\n",
       "      <td>M</td>\n",
       "      <td>1977-10-26</td>\n",
       "      <td>11.31</td>\n",
       "      <td>2023-01-11</td>\n",
       "      <td>Wilson, Wilson and Russell</td>\n",
       "      <td>Cosmetic</td>\n",
       "      <td>45</td>\n",
       "      <td>40-50</td>\n",
       "    </tr>\n",
       "    <tr>\n",
       "      <th>4</th>\n",
       "      <td>764762</td>\n",
       "      <td>Crystal</td>\n",
       "      <td>Knapp</td>\n",
       "      <td>F</td>\n",
       "      <td>1951-11-02</td>\n",
       "      <td>62.21</td>\n",
       "      <td>2023-06-13</td>\n",
       "      <td>Palmer-Hinton</td>\n",
       "      <td>Electronics</td>\n",
       "      <td>71</td>\n",
       "      <td>70-80</td>\n",
       "    </tr>\n",
       "  </tbody>\n",
       "</table>\n",
       "</div>"
      ],
      "text/plain": [
       "   Customer ID      Name    Surname Gender   Birthdate  Transaction Amount  \\\n",
       "0       752858      Sean  Rodriguez      F  2002-10-20               35.47   \n",
       "1        26381  Michelle     Phelps      F  1985-10-24             2552.72   \n",
       "2       305449     Jacob   Williams      M  1981-10-25              115.97   \n",
       "3       988259    Nathan     Snyder      M  1977-10-26               11.31   \n",
       "4       764762   Crystal      Knapp      F  1951-11-02               62.21   \n",
       "\n",
       "         Date               Merchant Name     Category  Age Age Range  \n",
       "0  2023-04-03               Smith-Russell     Cosmetic   21     20-30  \n",
       "1  2023-07-17      Peck, Spence and Young       Travel   37     30-40  \n",
       "2  2023-09-20                  Steele Inc     Clothing   41     40-50  \n",
       "3  2023-01-11  Wilson, Wilson and Russell     Cosmetic   45     40-50  \n",
       "4  2023-06-13               Palmer-Hinton  Electronics   71     70-80  "
      ]
     },
     "execution_count": 21,
     "metadata": {},
     "output_type": "execute_result"
    }
   ],
   "source": [
    "df.head()"
   ]
  },
  {
   "cell_type": "code",
   "execution_count": 22,
   "id": "90a65a5e",
   "metadata": {},
   "outputs": [
    {
     "data": {
      "text/plain": [
       "array([21, 37, 41, 45, 71, 22, 46, 54, 65, 48, 51, 19, 56, 60, 73, 24, 27,\n",
       "       29, 31, 63, 66, 20, 28, 44, 61, 52, 69, 42, 23, 35, 26, 64, 25, 40,\n",
       "       59, 67, 50, 18, 32, 55, 70, 53, 47, 72, 57, 58, 49, 36, 34, 43, 62,\n",
       "       30, 38, 74, 39, 68, 33], dtype=int64)"
      ]
     },
     "execution_count": 22,
     "metadata": {},
     "output_type": "execute_result"
    }
   ],
   "source": [
    "df['Age'].unique()"
   ]
  },
  {
   "cell_type": "markdown",
   "id": "7820390b",
   "metadata": {},
   "source": [
    "**PLOTTING A GRAPH BETWEEN AGE AND TRANSACTION AMOUNT TO CHECK HOW ARE THESE TWO PARAMETERS RELATED**"
   ]
  },
  {
   "cell_type": "code",
   "execution_count": 23,
   "id": "cccb2264",
   "metadata": {},
   "outputs": [
    {
     "data": {
      "text/plain": [
       "<Axes: xlabel='Age Range'>"
      ]
     },
     "execution_count": 23,
     "metadata": {},
     "output_type": "execute_result"
    },
    {
     "data": {
      "image/png": "[encoded data removed]",
      "text/plain": [
       "<Figure size 640x480 with 1 Axes>"
      ]
     },
     "metadata": {},
     "output_type": "display_data"
    }
   ],
   "source": [
    "df.groupby('Age Range')['Transaction Amount'].sum().plot(kind='bar')"
   ]
  },
  {
   "cell_type": "markdown",
   "id": "d573395e",
   "metadata": {},
   "source": [
    "**PLOTTING A BAR CHART TO FIGURE OUT HOW MUCH IN TOTAL WAS SPENT ON EACH CATEGORY** "
   ]
  },
  {
   "cell_type": "code",
   "execution_count": 24,
   "id": "fae93498",
   "metadata": {},
   "outputs": [
    {
     "data": {
      "text/plain": [
       "<Axes: ylabel='Transaction Amount'>"
      ]
     },
     "execution_count": 24,
     "metadata": {},
     "output_type": "execute_result"
    },
    {
     "data": {
      "image/png": "[encoded data removed]",
      "text/plain": [
       "<Figure size 640x480 with 1 Axes>"
      ]
     },
     "metadata": {},
     "output_type": "display_data"
    }
   ],
   "source": [
    "df.groupby('Category')['Transaction Amount'].sum().plot(kind='pie')"
   ]
  },
  {
   "cell_type": "markdown",
   "id": "56770261",
   "metadata": {},
   "source": [
    "**CREATING A NEW SERIES NAMED 'MONTH' IN THE DATAFRAME**"
   ]
  },
  {
   "cell_type": "code",
   "execution_count": 25,
   "id": "2dff0f04",
   "metadata": {},
   "outputs": [],
   "source": [
    "def convert(df):\n",
    "    l=[]\n",
    "    for j in df:\n",
    "        j = j.split('-')\n",
    "        l.append(calendar.month_name[int(j[1])])\n",
    "    return l\n",
    "\n",
    "df['Month'] = convert(df['Date'])"
   ]
  },
  {
   "cell_type": "code",
   "execution_count": 26,
   "id": "2eb4a1ed",
   "metadata": {},
   "outputs": [],
   "source": [
    "months = sorted(df['Month'], key=list(calendar.month_name).index)"
   ]
  },
  {
   "cell_type": "code",
   "execution_count": 27,
   "id": "ad37d293",
   "metadata": {},
   "outputs": [
    {
     "data": {
      "text/html": [
       "<div>\n",
       "<style scoped>\n",
       "    .dataframe tbody tr th:only-of-type {\n",
       "        vertical-align: middle;\n",
       "    }\n",
       "\n",
       "    .dataframe tbody tr th {\n",
       "        vertical-align: top;\n",
       "    }\n",
       "\n",
       "    .dataframe thead th {\n",
       "        text-align: right;\n",
       "    }\n",
       "</style>\n",
       "<table border=\"1\" class=\"dataframe\">\n",
       "  <thead>\n",
       "    <tr style=\"text-align: right;\">\n",
       "      <th></th>\n",
       "      <th>Customer ID</th>\n",
       "      <th>Name</th>\n",
       "      <th>Surname</th>\n",
       "      <th>Gender</th>\n",
       "      <th>Birthdate</th>\n",
       "      <th>Transaction Amount</th>\n",
       "      <th>Date</th>\n",
       "      <th>Merchant Name</th>\n",
       "      <th>Category</th>\n",
       "      <th>Age</th>\n",
       "      <th>Age Range</th>\n",
       "      <th>Month</th>\n",
       "    </tr>\n",
       "  </thead>\n",
       "  <tbody>\n",
       "    <tr>\n",
       "      <th>0</th>\n",
       "      <td>752858</td>\n",
       "      <td>Sean</td>\n",
       "      <td>Rodriguez</td>\n",
       "      <td>F</td>\n",
       "      <td>2002-10-20</td>\n",
       "      <td>35.47</td>\n",
       "      <td>2023-04-03</td>\n",
       "      <td>Smith-Russell</td>\n",
       "      <td>Cosmetic</td>\n",
       "      <td>21</td>\n",
       "      <td>20-30</td>\n",
       "      <td>April</td>\n",
       "    </tr>\n",
       "    <tr>\n",
       "      <th>1</th>\n",
       "      <td>26381</td>\n",
       "      <td>Michelle</td>\n",
       "      <td>Phelps</td>\n",
       "      <td>F</td>\n",
       "      <td>1985-10-24</td>\n",
       "      <td>2552.72</td>\n",
       "      <td>2023-07-17</td>\n",
       "      <td>Peck, Spence and Young</td>\n",
       "      <td>Travel</td>\n",
       "      <td>37</td>\n",
       "      <td>30-40</td>\n",
       "      <td>July</td>\n",
       "    </tr>\n",
       "    <tr>\n",
       "      <th>2</th>\n",
       "      <td>305449</td>\n",
       "      <td>Jacob</td>\n",
       "      <td>Williams</td>\n",
       "      <td>M</td>\n",
       "      <td>1981-10-25</td>\n",
       "      <td>115.97</td>\n",
       "      <td>2023-09-20</td>\n",
       "      <td>Steele Inc</td>\n",
       "      <td>Clothing</td>\n",
       "      <td>41</td>\n",
       "      <td>40-50</td>\n",
       "      <td>September</td>\n",
       "    </tr>\n",
       "    <tr>\n",
       "      <th>3</th>\n",
       "      <td>988259</td>\n",
       "      <td>Nathan</td>\n",
       "      <td>Snyder</td>\n",
       "      <td>M</td>\n",
       "      <td>1977-10-26</td>\n",
       "      <td>11.31</td>\n",
       "      <td>2023-01-11</td>\n",
       "      <td>Wilson, Wilson and Russell</td>\n",
       "      <td>Cosmetic</td>\n",
       "      <td>45</td>\n",
       "      <td>40-50</td>\n",
       "      <td>January</td>\n",
       "    </tr>\n",
       "    <tr>\n",
       "      <th>4</th>\n",
       "      <td>764762</td>\n",
       "      <td>Crystal</td>\n",
       "      <td>Knapp</td>\n",
       "      <td>F</td>\n",
       "      <td>1951-11-02</td>\n",
       "      <td>62.21</td>\n",
       "      <td>2023-06-13</td>\n",
       "      <td>Palmer-Hinton</td>\n",
       "      <td>Electronics</td>\n",
       "      <td>71</td>\n",
       "      <td>70-80</td>\n",
       "      <td>June</td>\n",
       "    </tr>\n",
       "  </tbody>\n",
       "</table>\n",
       "</div>"
      ],
      "text/plain": [
       "   Customer ID      Name    Surname Gender   Birthdate  Transaction Amount  \\\n",
       "0       752858      Sean  Rodriguez      F  2002-10-20               35.47   \n",
       "1        26381  Michelle     Phelps      F  1985-10-24             2552.72   \n",
       "2       305449     Jacob   Williams      M  1981-10-25              115.97   \n",
       "3       988259    Nathan     Snyder      M  1977-10-26               11.31   \n",
       "4       764762   Crystal      Knapp      F  1951-11-02               62.21   \n",
       "\n",
       "         Date               Merchant Name     Category  Age Age Range  \\\n",
       "0  2023-04-03               Smith-Russell     Cosmetic   21     20-30   \n",
       "1  2023-07-17      Peck, Spence and Young       Travel   37     30-40   \n",
       "2  2023-09-20                  Steele Inc     Clothing   41     40-50   \n",
       "3  2023-01-11  Wilson, Wilson and Russell     Cosmetic   45     40-50   \n",
       "4  2023-06-13               Palmer-Hinton  Electronics   71     70-80   \n",
       "\n",
       "       Month  \n",
       "0      April  \n",
       "1       July  \n",
       "2  September  \n",
       "3    January  \n",
       "4       June  "
      ]
     },
     "execution_count": 27,
     "metadata": {},
     "output_type": "execute_result"
    }
   ],
   "source": [
    "df.head()"
   ]
  },
  {
   "cell_type": "markdown",
   "id": "1b788be3",
   "metadata": {},
   "source": [
    "**UNDERSTANDING THE EFFECT OF TIME OF THE YEAR ON TRANSACTION AMOUNT**"
   ]
  },
  {
   "cell_type": "code",
   "execution_count": 34,
   "id": "a222c3af",
   "metadata": {},
   "outputs": [
    {
     "data": {
      "text/plain": [
       "<Axes: xlabel='Month'>"
      ]
     },
     "execution_count": 34,
     "metadata": {},
     "output_type": "execute_result"
    },
    {
     "data": {
      "image/png": "[encoded data removed]",
      "text/plain": [
       "<Figure size 640x480 with 1 Axes>"
      ]
     },
     "metadata": {},
     "output_type": "display_data"
    }
   ],
   "source": [
    "df.groupby('Month')['Transaction Amount'].sum().plot(kind=\"bar\",logy=True,color='teal')"
   ]
  }
 ],
 "metadata": {
  "kernelspec": {
   "display_name": "Python 3 (ipykernel)",
   "language": "python",
   "name": "python3"
  },
  "language_info": {
   "codemirror_mode": {
    "name": "ipython",
    "version": 3
   },
   "file_extension": ".py",
   "mimetype": "text/x-python",
   "name": "python",
   "nbconvert_exporter": "python",
   "pygments_lexer": "ipython3",
   "version": "3.8.10"
  }
 },
 "nbformat": 4,
 "nbformat_minor": 5
}
